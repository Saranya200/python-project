{
  "nbformat": 4,
  "nbformat_minor": 0,
  "metadata": {
    "colab": {
      "name": "Untitled0.ipynb",
      "provenance": [],
      "collapsed_sections": []
    },
    "kernelspec": {
      "name": "python3",
      "display_name": "Python 3"
    },
    "language_info": {
      "name": "python"
    }
  },
  "cells": [
    {
      "cell_type": "code",
      "metadata": {
        "colab": {
          "base_uri": "https://localhost:8080/"
        },
        "id": "tsZbA1nP2Aqs",
        "outputId": "b43c3726-c73b-4acc-ad09-00b75b647323"
      },
      "source": [
        "#Python code to generate the working of md5\n",
        "import hashlib\n",
        "#initializing string\n",
        "str2hash=\"GeeksforGeeks\"\n",
        "#encoding Geejsforgeeks using encode()\n",
        "#sending to md5()\n",
        "result= hashlib.md5(str2hash.encode())\n",
        "#printing the equivalent hexadecimal value.\n",
        "print(\"The hexadecimal equivalent of hash is:\",end=\"\")\n",
        "print(result.hexdigest())       "
      ],
      "execution_count": 2,
      "outputs": [
        {
          "output_type": "stream",
          "text": [
            "The hexadecimal equivalent of hash is:f1e069787ece74531d112559945c6871\n"
          ],
          "name": "stdout"
        }
      ]
    }
  ]
}